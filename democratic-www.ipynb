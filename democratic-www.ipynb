{
 "cells": [
  {
   "cell_type": "markdown",
   "id": "7c3e6135",
   "metadata": {},
   "source": [
    "# A Democratic World Wide Web\n",
    "## An Introduction and Implementation of the Plebeian Algorithm to Freely Combat Misinformation\n",
    "## By: Benjamin D. Fedoruk"
   ]
  },
  {
   "cell_type": "markdown",
   "id": "134fa182",
   "metadata": {},
   "source": [
    "### About the Speaker\n",
    "Benjamin D. Fedoruk is a data scientist, currently studying mathematics and computer science at Ontario Tech University. He has completed various data science works, including research into carbon pricing efficacy, public transit systems in northern/rural communities, and most majorly, has conducted research to reduce the spread of misinformation on social media. He is interested in NLP, and data science at-large. \n",
    "\n",
    "### Workshop Overview\n",
    "The Internet is filled with a vast array of information -- some is true, some is false. But, is there a programmatic method to effectively determine the verity of information, without the need for human intervention? This is where the Plebeian Algorithm shines, which you will learn about in this workshop. You will learn how to implement a Plebeian-esque algorithm into your personal projects. \n",
    "\n",
    "### Intended Audience\n",
    "This workshop is for you if:\n",
    "\n",
    "- you have an introductory level of data science skills in Python.\n",
    "- you are interested in natural language processing.\n",
    "- you want to learn applications of data science skills to real-world problems.\n",
    "- you want to find solutions to the spread of misinformation. \n",
    "- you are intrigued by problem solving approaches using data science. \n",
    "\n",
    "### Topics Covered\n",
    "Topics covered in this workshop include:\n",
    "\n",
    "- Plebeian algorithms\n",
    "- democratic moderation of content\n",
    "- natural language processing, applied to a real-world issue\n",
    "- expansion on the basics of Python data science. \n",
    "\n",
    "### Workshop Takeaways\n",
    "Topics covered in this workshop include:\n",
    "\n",
    "- Plebeian algorithms\n",
    "- democratic moderation of content\n",
    "- natural language processing, applied to a real-world issue\n",
    "- expansion on the basics of Python data science. "
   ]
  },
  {
   "cell_type": "markdown",
   "id": "5a43fc56",
   "metadata": {},
   "source": [
    "## Pre-Requisites\n",
    "\n",
    "I am going to be using Jupyter Notebook for this course, but you can feel free to follow along in any other Python setup. \n",
    "\n",
    "If you haven't installed some of the core Python packages (using `pip`), here's what you'll need to run (on a Bash prompt). This can also be done using Anaconda, in a similar way. I'm assuming that if you're attending this workshop, you'll know how to install packages for your specific Python setup! "
   ]
  },
  {
   "cell_type": "code",
   "execution_count": 1,
   "id": "99e3ce9b",
   "metadata": {},
   "outputs": [],
   "source": [
    "%%capture\n",
    "# Below is the command you should run in a prompt:\n",
    "!pip install numpy matplotlib nltk pandas demoji seaborn urllib3 basc_py4chan bs4"
   ]
  },
  {
   "cell_type": "markdown",
   "id": "eb48bcc8",
   "metadata": {},
   "source": [
    "## Imports\n",
    "Below are the imports for all of the work we'll be doing on this file. "
   ]
  },
  {
   "cell_type": "code",
   "execution_count": 3,
   "id": "1bbdc1eb",
   "metadata": {},
   "outputs": [],
   "source": [
    "import pandas as pd\n",
    "import nltk\n",
    "from nltk.sentiment.vader import SentimentIntensityAnalyzer\n",
    "import numpy as np\n",
    "import demoji\n",
    "import re\n",
    "import seaborn as sns\n",
    "import matplotlib.pyplot as plt\n",
    "import urllib.request\n",
    "import warnings\n",
    "import datetime\n",
    "import json\n",
    "import basc_py4chan\n",
    "from bs4 import BeautifulSoup"
   ]
  },
  {
   "cell_type": "markdown",
   "id": "c099cfd8",
   "metadata": {},
   "source": [
    "And here are some of the basic declarations we'll need."
   ]
  },
  {
   "cell_type": "code",
   "execution_count": 5,
   "id": "08dc197b",
   "metadata": {},
   "outputs": [
    {
     "name": "stderr",
     "output_type": "stream",
     "text": [
      "[nltk_data] Downloading package vader_lexicon to\n",
      "[nltk_data]     /home/ben/nltk_data...\n",
      "[nltk_data]   Package vader_lexicon is already up-to-date!\n"
     ]
    }
   ],
   "source": [
    "nltk.download('vader_lexicon')\n",
    "sia = SentimentIntensityAnalyzer()\n",
    "plt.rcParams['figure.figsize'] = [10, 5]"
   ]
  },
  {
   "cell_type": "markdown",
   "id": "71134834",
   "metadata": {},
   "source": [
    "## Analyzing YouTube Comments from a Dataset\n",
    "The first exploration we will do with the Plebeian Algorithm will be an analysis of YouTube comments from a dataset. The dataset should be contained in the same directory as this .ipynb file, saved as a CSV (comma-separated values) file. The file is named `youtube_comments_usa.csv`. \n",
    "\n",
    "Although it may be advisable to add a popularity check to the comments being analyzed, this approach will take all comments into account, as most posts have less than 5 likes or replies. \n",
    "\n",
    "**Warning**: The comments in this dataset are not curated, and are directly gathered from YouTube. As such, there is a strong chance that some comments may contain choice language, or potentially triggering material. I recommend that if this is a concern for you, that you avoid printing out the `comment_text` column of the dataset. "
   ]
  },
  {
   "cell_type": "markdown",
   "id": "541f9bab",
   "metadata": {},
   "source": [
    "### Import the Dataset\n",
    "Below, we shall import the dataset using pandas. Some lines in the CSV are skipped -- although this is unfortunate, this workshop will not focus on the data cleaning of this retrieved data. Instead, we will simply skip those entries: we have enough data without them. They will be stored in a pandas dataframe, which can essentially be thought of as a table, with rows and columns. The columns have headers, which we will print in the subsequent section. "
   ]
  },
  {
   "cell_type": "code",
   "execution_count": 7,
   "id": "aa13eec6",
   "metadata": {},
   "outputs": [
    {
     "name": "stderr",
     "output_type": "stream",
     "text": [
      "Skipping line 24537: NULL byte detected. This byte cannot be processed in Python's native csv library at the moment, so please pass in engine='c' instead\n",
      "Skipping line 41589: ',' expected after '\"'\n",
      "Skipping line 74586: ',' expected after '\"'\n",
      "Skipping line 114465: ',' expected after '\"'\n",
      "Skipping line 141800: ',' expected after '\"'\n",
      "Skipping line 142496: ',' expected after '\"'\n",
      "Skipping line 162506: ',' expected after '\"'\n",
      "Skipping line 189732: ',' expected after '\"'\n",
      "Skipping line 195584: NULL byte detected. This byte cannot be processed in Python's native csv library at the moment, so please pass in engine='c' instead\n",
      "Skipping line 216199: NULL byte detected. This byte cannot be processed in Python's native csv library at the moment, so please pass in engine='c' instead\n",
      "Skipping line 235276: NULL byte detected. This byte cannot be processed in Python's native csv library at the moment, so please pass in engine='c' instead\n",
      "Skipping line 250341: NULL byte detected. This byte cannot be processed in Python's native csv library at the moment, so please pass in engine='c' instead\n",
      "Skipping line 303957: ',' expected after '\"'\n",
      "Skipping line 370469: NULL byte detected. This byte cannot be processed in Python's native csv library at the moment, so please pass in engine='c' instead\n",
      "Skipping line 388430: ',' expected after '\"'\n",
      "Skipping line 391802: NULL byte detected. This byte cannot be processed in Python's native csv library at the moment, so please pass in engine='c' instead\n",
      "Skipping line 405646: NULL byte detected. This byte cannot be processed in Python's native csv library at the moment, so please pass in engine='c' instead\n",
      "Skipping line 407139: NULL byte detected. This byte cannot be processed in Python's native csv library at the moment, so please pass in engine='c' instead\n",
      "Skipping line 409358: ',' expected after '\"'\n",
      "Skipping line 412358: NULL byte detected. This byte cannot be processed in Python's native csv library at the moment, so please pass in engine='c' instead\n",
      "Skipping line 428355: NULL byte detected. This byte cannot be processed in Python's native csv library at the moment, so please pass in engine='c' instead\n",
      "Skipping line 432025: NULL byte detected. This byte cannot be processed in Python's native csv library at the moment, so please pass in engine='c' instead\n",
      "Skipping line 445171: NULL byte detected. This byte cannot be processed in Python's native csv library at the moment, so please pass in engine='c' instead\n",
      "Skipping line 447868: NULL byte detected. This byte cannot be processed in Python's native csv library at the moment, so please pass in engine='c' instead\n",
      "Skipping line 522701: NULL byte detected. This byte cannot be processed in Python's native csv library at the moment, so please pass in engine='c' instead\n",
      "Skipping line 541394: NULL byte detected. This byte cannot be processed in Python's native csv library at the moment, so please pass in engine='c' instead\n",
      "Skipping line 562581: NULL byte detected. This byte cannot be processed in Python's native csv library at the moment, so please pass in engine='c' instead\n",
      "Skipping line 583887: NULL byte detected. This byte cannot be processed in Python's native csv library at the moment, so please pass in engine='c' instead\n",
      "Skipping line 605241: NULL byte detected. This byte cannot be processed in Python's native csv library at the moment, so please pass in engine='c' instead\n",
      "Skipping line 606089: NULL byte detected. This byte cannot be processed in Python's native csv library at the moment, so please pass in engine='c' instead\n",
      "Skipping line 51626: Expected 4 fields in line 51626, saw 7\n",
      "Skipping line 245207: Expected 4 fields in line 245207, saw 7\n"
     ]
    },
    {
     "name": "stdout",
     "output_type": "stream",
     "text": [
      "      video_id                                       comment_text likes  \\\n",
      "0  XpVt6Z1Gjjo                  Logan Paul it's yo big day ‼️‼️‼️     4   \n",
      "1  XpVt6Z1Gjjo  I've been following you from the start of your...     3   \n",
      "2  XpVt6Z1Gjjo                 Say hi to Kong and maverick for me     3   \n",
      "3  XpVt6Z1Gjjo                                MY FAN . attendance     3   \n",
      "4  XpVt6Z1Gjjo                                         trending 😉     3   \n",
      "\n",
      "  replies  \n",
      "0       0  \n",
      "1       0  \n",
      "2       0  \n",
      "3       0  \n",
      "4       0  \n"
     ]
    }
   ],
   "source": [
    "df = pd.read_csv('youtube_comments_us.csv', error_bad_lines=False, engine='python')\n",
    "\n",
    "print(df.head())"
   ]
  },
  {
   "cell_type": "markdown",
   "id": "e174fcd4",
   "metadata": {},
   "source": [
    "### Preliminary Analysis of the Dataset\n",
    "Here's some quick information about the dataset we're working with. I'll print off the first few comments, the columns, and the number of rows/comments. "
   ]
  },
  {
   "cell_type": "code",
   "execution_count": 12,
   "id": "b3e13ba8",
   "metadata": {},
   "outputs": [],
   "source": [
    "def remove_links_translate_emoji(text: str) -> str:\n",
    "    return re.sub(r'\\w:\\/{2}[\\d\\w-]+(\\.[\\d\\w-]+)*(?:(?:\\/[^\\s/]*))*', '', demoji.replace_with_desc(text, ' ').lower())"
   ]
  },
  {
   "cell_type": "markdown",
   "id": "9bf19998",
   "metadata": {},
   "source": [
    "And here's some of the basics:"
   ]
  },
  {
   "cell_type": "code",
   "execution_count": 10,
   "id": "56101d03",
   "metadata": {},
   "outputs": [
    {
     "name": "stdout",
     "output_type": "stream",
     "text": [
      "      video_id                                       comment_text likes  \\\n",
      "0  XpVt6Z1Gjjo                  Logan Paul it's yo big day ‼️‼️‼️     4   \n",
      "1  XpVt6Z1Gjjo  I've been following you from the start of your...     3   \n",
      "2  XpVt6Z1Gjjo                 Say hi to Kong and maverick for me     3   \n",
      "3  XpVt6Z1Gjjo                                MY FAN . attendance     3   \n",
      "4  XpVt6Z1Gjjo                                         trending 😉     3   \n",
      "\n",
      "  replies  \n",
      "0       0  \n",
      "1       0  \n",
      "2       0  \n",
      "3       0  \n",
      "4       0  \n",
      "Index(['video_id', 'comment_text', 'likes', 'replies'], dtype='object')\n",
      "691375\n"
     ]
    }
   ],
   "source": [
    "print(df.head())\n",
    "print(df.columns)\n",
    "print(df.shape[0])"
   ]
  },
  {
   "cell_type": "markdown",
   "id": "b01f2b67",
   "metadata": {},
   "source": [
    "### Data Cleaning and Sentiment Analysis\n",
    "Let's do some quick cleaning and also generate some sentiment analysis for each comment. We are using VADER, as described above. VADER is the ideal sentiment analyzer for informal text with slang (see *Hands-On Python Natural Language Processing* by Kedia and Rasu). Obviously, YouTube comments contain this level of informal language."
   ]
  },
  {
   "cell_type": "code",
   "execution_count": 14,
   "id": "82d6d43c",
   "metadata": {},
   "outputs": [
    {
     "name": "stdout",
     "output_type": "stream",
     "text": [
      "     neg    neu    pos  compound  \\\n",
      "0  0.287  0.278  0.434    0.3786   \n",
      "1  0.000  0.877  0.123    0.1027   \n",
      "2  0.000  0.784  0.216    0.7993   \n",
      "3  0.443  0.388  0.168   -0.7392   \n",
      "4  0.137  0.775  0.088   -0.3400   \n",
      "\n",
      "                                                text  label  \n",
      "0                     this is a great fake trailer!!      1  \n",
      "1  pewd you don't have anything to apologize for....      1  \n",
      "2  what did he take away from this [trip] today?\\...      1  \n",
      "3  absolutely beautiful but wtf apple?! 1000 doll...     -1  \n",
      "4  it looks like glass iphone,,, that effect is n...     -1  \n"
     ]
    }
   ],
   "source": [
    "all_texts = set(df['comment_text'].tolist()[:1000])\n",
    "results = []\n",
    "\n",
    "for line in all_texts:\n",
    "    if not type(line) == str:\n",
    "        continue\n",
    "    if line == '' or line == np.nan or 'nan' in line:\n",
    "        continue\n",
    "    line = remove_links_translate_emoji(line)\n",
    "    pol_score = sia.polarity_scores(line)\n",
    "    # 'neg', 'neu', 'pos', 'compound'\n",
    "    # [0,1]\n",
    "    # [-1,1]\n",
    "    if pol_score['compound'] == 0.0:\n",
    "        continue\n",
    "    pol_score['text'] = line\n",
    "    results.append(pol_score)\n",
    "\n",
    "df_nlp = pd.DataFrame.from_records(results)\n",
    "df_nlp['label'] = 0\n",
    "df_nlp.loc[df_nlp['compound'] > 0.1, 'label'] = 1\n",
    "df_nlp.loc[df_nlp['compound'] < -0.1, 'label'] = -1\n",
    "# [-0.1, 0.1]\n",
    "\n",
    "print(df_nlp.head())"
   ]
  },
  {
   "cell_type": "markdown",
   "id": "3cd18f5c",
   "metadata": {},
   "source": [
    "### Visualize The Results\n",
    "Great work so far! We will now use seaborn to visualize the results. "
   ]
  },
  {
   "cell_type": "code",
   "execution_count": 16,
   "id": "dab338ba",
   "metadata": {},
   "outputs": [
    {
     "data": {
      "text/plain": [
       "[Text(0.5, 0, 'compounded positivity score on [-1,1]'),\n",
       " Text(0, 0.5, 'frequency'),\n",
       " Text(0.5, 1.0, 'YouTube Comments Frequency of Positivity from Dataset')]"
      ]
     },
     "execution_count": 16,
     "metadata": {},
     "output_type": "execute_result"
    },
    {
     "data": {
      "image/png": "[encoded data removed]",
      "text/plain": [
       "<Figure size 720x360 with 1 Axes>"
      ]
     },
     "metadata": {
      "needs_background": "light"
     },
     "output_type": "display_data"
    }
   ],
   "source": [
    "fig = sns.histplot(data=df_nlp, \n",
    "                   x='compound', \n",
    "                   bins=25, \n",
    "                   kde=True,\n",
    "                   color='#282828')\n",
    "fig.set(xlabel='compounded positivity score on [-1,1]',\n",
    "        ylabel='frequency',\n",
    "        title='YouTube Comments Frequency of Positivity from Dataset')"
   ]
  },
  {
   "cell_type": "markdown",
   "id": "15d6a895",
   "metadata": {},
   "source": [
    "## Analyzing Reddit using API\n",
    "Now we'll do another case study, using Reddit. We will be using `urllib` and `pushshift` to grab posts on Reddit. This can include original posts and comments, however for this exercise (for the sake of time) I will be only gathering the headlines. Obviously this will be easier to code, but it should be noted that the results may not be useful in any meaningful sense. \n",
    "\n",
    "**Warning**: The text entries gathered in this exercise will be gathered live during the workshop. I cannot guarantee the profanity of the language used. It may be triggering to some individuals. I recommend that if this is a concern for you, that you avoid printing out the text entries gathered. \n",
    "### Pre-Requisites for URLLib\n",
    "Below are some quick setup procedures we need to follow for `urllib`. To save time, I have provided these in the pre-notes. "
   ]
  },
  {
   "cell_type": "code",
   "execution_count": 123,
   "id": "8e1de517",
   "metadata": {},
   "outputs": [],
   "source": [
    "def load_results(lower_bound_timestamp, upper_bound_timestamp, target_result_size, target_subreddit, score_threshold):\n",
    "    headline_collection = set()\n",
    "    reddit_data_url = f'https://api.pushshift.io/reddit/submission/search/?after={lower_bound_timestamp}&before={upper_bound_timestamp}&sort_type=score&sort=desc&subreddit={target_subreddit}&size={target_result_size}&score={score_threshold}'\n",
    "    \n",
    "    try:\n",
    "        with urllib.request.urlopen(reddit_data_url) as url:\n",
    "            data = json.loads(url.read().decode())\n",
    "            for submission in data['data']:\n",
    "                headline_collection.add(submission['title'])\n",
    "        return headline_collection\n",
    "    except urllib.error.HTTPError as e:\n",
    "        return set()\n",
    "    except urllib.error.URLError as e:\n",
    "        return set()\n",
    "    \n",
    "headlines = set()\n",
    "time_now = datetime.datetime.now()\n",
    "limit_delta = 365\n",
    "limit_lower_delta = 360\n",
    "subreddit = \"politics\"\n",
    "result_size = 1000\n",
    "score_limit = \">1\""
   ]
  },
  {
   "cell_type": "markdown",
   "id": "3460b89e",
   "metadata": {},
   "source": [
    "### Scrape from Reddit\n",
    "We'll now scrape from Reddit using the method we created above. This step may take some time to execute."
   ]
  },
  {
   "cell_type": "code",
   "execution_count": null,
   "id": "8ac8cfd8",
   "metadata": {},
   "outputs": [],
   "source": []
  },
  {
   "cell_type": "markdown",
   "id": "7d1b4d0a",
   "metadata": {},
   "source": [
    "### Get Sentiment Analysis Results\n",
    "You know the drill -- time to do some sentiment analysis using nltk and VADER."
   ]
  },
  {
   "cell_type": "code",
   "execution_count": null,
   "id": "057a3df6",
   "metadata": {},
   "outputs": [],
   "source": []
  },
  {
   "cell_type": "markdown",
   "id": "4d0292b8",
   "metadata": {},
   "source": [
    "### Visualize the Results\n",
    "Well, that was a little bit more tough than last time, but hopefully it feels a little bit familiar. Hopefully at this point, you're beginning to understand the idea we're going for. "
   ]
  },
  {
   "cell_type": "code",
   "execution_count": null,
   "id": "4980db4d",
   "metadata": {},
   "outputs": [],
   "source": []
  },
  {
   "cell_type": "markdown",
   "id": "b09635d4",
   "metadata": {},
   "source": [
    "## Analyzing 4chan using API\n",
    "Let's do one final analysis using 4chan. We will be using `basc_py4chan` to grab posts on 4chan. The 4chan platform offers users visibility of only the top posts -- once a post is no longer in the top set of posts, it is removed. Thus, 4chan offers users ephemerality, and also anonymity. \n",
    "\n",
    "**Warning**: The text entries gathered in this exercise will be gathered live during the workshop. I cannot guarantee the profanity of the language used. It may be triggering to some individuals. I recommend that if this is a concern for you, that you avoid printing out the text entries gathered. I know I've been saying this for the past few, but this is the one time I'm going to nearly guarantee that you'll see some potentially disturbing material. As mentioned, this is due to the ephemerality and anonymity of 4chan. I'll avoid printing them out. \n",
    "### Pre-Requisites\n",
    "Below are some pre-requisites for this analysis. I haven't included these herein; I think these will be easy enough to type out. "
   ]
  },
  {
   "cell_type": "code",
   "execution_count": 17,
   "id": "37bdf55d",
   "metadata": {},
   "outputs": [],
   "source": [
    "def clean_comment(comment: str) -> str:\n",
    "    c = re.sub('https://\\S+|https://\\S+', '', comment)\n",
    "    return BeautifulSoup(c, 'lxml').text\n",
    "\n",
    "warnings.filterwarnings('ignore')"
   ]
  },
  {
   "cell_type": "markdown",
   "id": "a2361a9e",
   "metadata": {},
   "source": [
    "### Scrape /b/ from 4chan\n",
    "We are going to be scraping the /b/ board from 4chan. "
   ]
  },
  {
   "cell_type": "code",
   "execution_count": 19,
   "id": "8580b546",
   "metadata": {},
   "outputs": [],
   "source": [
    "board = basc_py4chan.Board('b')\n",
    "all_thread_ids = board.get_all_thread_ids()\n",
    "\n",
    "titles = []\n",
    "comments = []\n",
    "\n",
    "for thread_id in all_thread_ids:\n",
    "    thread = board.get_thread(thread_id)\n",
    "    try:\n",
    "        title = thread.topic.comment\n",
    "        \n",
    "        for post in thread.posts:\n",
    "            comments.append(clean_comment(post.comment))\n",
    "        titles.append(title)\n",
    "    except:\n",
    "        continue\n",
    "\n",
    "texts = titles + comments"
   ]
  },
  {
   "cell_type": "markdown",
   "id": "5c5e7916",
   "metadata": {},
   "source": [
    "### Perform Sentiment Analysis on Results\n",
    "You guessed it! Time to do the same process again! Let's use nltk and VADER to analyze the sentiment of these posts. "
   ]
  },
  {
   "cell_type": "code",
   "execution_count": 20,
   "id": "5d0038fd",
   "metadata": {},
   "outputs": [
    {
     "name": "stdout",
     "output_type": "stream",
     "text": [
      "     neg    neu    pos  compound  \\\n",
      "0  0.206  0.794  0.000   -0.6908   \n",
      "1  0.000  0.884  0.116    0.3612   \n",
      "2  0.000  0.922  0.078    0.1139   \n",
      "3  0.000  0.575  0.425    0.4019   \n",
      "4  0.080  0.920  0.000   -0.0572   \n",
      "\n",
      "                                            headline  label  \n",
      "0  He didn't say they were bad. Just that they ca...     -1  \n",
      "1  >>865313554>posted more than 50 arricles>50 ar...      1  \n",
      "2  >>865317129>flu mitigated heavily by lockdowns...      1  \n",
      "3  >>865308226Feels good, like normal orgasm but ...      1  \n",
      "4  I did what you guys wanted, is the OP who does...      0  \n"
     ]
    }
   ],
   "source": [
    "results = []\n",
    "\n",
    "for line in set(texts):\n",
    "    pol_score = sia.polarity_scores(line)\n",
    "    if pol_score['compound'] == 0.0:\n",
    "        continue\n",
    "    pol_score['headline'] = line\n",
    "    results.append(pol_score)\n",
    "\n",
    "df_nlp = pd.DataFrame.from_records(results)\n",
    "df_nlp['label'] = 0\n",
    "df_nlp.loc[df_nlp['compound'] > 0.1, 'label'] = 1\n",
    "df_nlp.loc[df_nlp['compound'] < -0.1, 'label'] = -1\n",
    "\n",
    "print(df_nlp.head())"
   ]
  },
  {
   "cell_type": "markdown",
   "id": "d4ba9fa0",
   "metadata": {},
   "source": [
    "### Visualize the Results\n",
    "Time to see what this means, again! Let's plot these results! "
   ]
  },
  {
   "cell_type": "code",
   "execution_count": 22,
   "id": "f4317c99",
   "metadata": {},
   "outputs": [
    {
     "data": {
      "text/plain": [
       "[Text(0.5, 0, 'compounded positivity score on [-1,1]'),\n",
       " Text(0, 0.5, 'frequency'),\n",
       " Text(0.5, 1.0, '4chan /b/ Frequency of Positivity from Dataset')]"
      ]
     },
     "execution_count": 22,
     "metadata": {},
     "output_type": "execute_result"
    },
    {
     "data": {
      "image/png": "[encoded data removed]",
      "text/plain": [
       "<Figure size 720x360 with 1 Axes>"
      ]
     },
     "metadata": {
      "needs_background": "light"
     },
     "output_type": "display_data"
    }
   ],
   "source": [
    "fig = sns.histplot(data=df_nlp, \n",
    "                   x='compound', \n",
    "                   bins=25, \n",
    "                   kde=True,\n",
    "                   color='#ff5600')\n",
    "fig.set(xlabel='compounded positivity score on [-1,1]',\n",
    "        ylabel='frequency',\n",
    "        title='4chan /b/ Frequency of Positivity from Dataset')"
   ]
  },
  {
   "cell_type": "code",
   "execution_count": null,
   "id": "c748388c",
   "metadata": {},
   "outputs": [],
   "source": []
  }
 ],
 "metadata": {
  "kernelspec": {
   "display_name": "Python 3 (ipykernel)",
   "language": "python",
   "name": "python3"
  },
  "language_info": {
   "codemirror_mode": {
    "name": "ipython",
    "version": 3
   },
   "file_extension": ".py",
   "mimetype": "text/x-python",
   "name": "python",
   "nbconvert_exporter": "python",
   "pygments_lexer": "ipython3",
   "version": "3.9.7"
  }
 },
 "nbformat": 4,
 "nbformat_minor": 5
}
